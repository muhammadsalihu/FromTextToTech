{
 "cells": [
  {
   "cell_type": "code",
   "execution_count": 1,
   "id": "d73a9463",
   "metadata": {},
   "outputs": [],
   "source": [
    "###########################################\n",
    "PROJECT_NAME = 'square_bar'\n",
    "###########################################"
   ]
  },
  {
   "cell_type": "code",
   "execution_count": 2,
   "id": "45aa0549",
   "metadata": {},
   "outputs": [],
   "source": [
    "import config #place your Openai key here\n",
    "from openai import OpenAI\n",
    "\n",
    "# Initialize the OpenAI client with API key\n",
    "client = OpenAI(api_key=config.OPENAI_API_KEY)"
   ]
  },
  {
   "cell_type": "code",
   "execution_count": 3,
   "id": "b6d0ac93",
   "metadata": {},
   "outputs": [],
   "source": [
    "# Global variables to keep track of the conversation\n",
    "conversation_history = []\n",
    "last_response = None\n",
    "model_call_count = 0\n",
    "\n",
    "# Read the system message once and append to history\n",
    "with open(\"system_geo.txt\", 'r') as file:\n",
    "    system_message = file.read().strip()\n",
    "conversation_history.append({\"role\": \"system\", \"content\": system_message})"
   ]
  },
  {
   "cell_type": "code",
   "execution_count": 4,
   "id": "305c9d59",
   "metadata": {},
   "outputs": [],
   "source": [
    "#FUNCTIONS FOR INTERACTING WITH CHATBOT\n",
    "    \n",
    "def chat_with_bot(user_messages):\n",
    "    global last_response\n",
    "    # Add the new user input to the conversation history\n",
    "    conversation_history.append({\"role\": \"user\", \"content\": user_messages})\n",
    "    # Call the OpenAI model\n",
    "    response = client.chat.completions.create(\n",
    "        model=\"gpt-4-1106-preview\",\n",
    "        messages=conversation_history,\n",
    "        temperature=0\n",
    "    )\n",
    "    # Extract the model's response\n",
    "    model_response = response.choices[0].message.content\n",
    "    # Update the last response\n",
    "    last_response = model_response\n",
    "    # Append the model's response to the conversation history\n",
    "    conversation_history.append({\"role\": \"assistant\", \"content\": model_response})\n",
    "    # Print the model's response\n",
    "    return print(model_response)\n",
    "\n",
    "#Saves .geo file from response\n",
    "def extract_and_save_geo_file(response_text): \n",
    "    file_path = f\"{PROJECT_NAME}.geo\"\n",
    "    try:\n",
    "        # Use string formatting explained in system_geo.txt \n",
    "        start_marker = \"//BEGIN_GEO\"\n",
    "        end_marker = f\"//END_GEO\"\n",
    "\n",
    "        start_index = response_text.index(start_marker) + len(start_marker)\n",
    "        end_index = response_text.index(end_marker, start_index)\n",
    "        geo_content = response_text[start_index:end_index].strip()\n",
    "\n",
    "        with open(file_path, 'w') as file:\n",
    "            file.write(geo_content)\n",
    "        print(f\"{file_path} file saved\")\n",
    "        print(\"Visualize .geo files with GMSH\")\n",
    "\n",
    "    except ValueError as e:\n",
    "        print(f\"ERROR: .geo file NOT SAVED.\")"
   ]
  },
  {
   "cell_type": "code",
   "execution_count": 5,
   "id": "1b692064",
   "metadata": {},
   "outputs": [],
   "source": [
    "#FUNCTIONS FROM CREATING THE MESH ONCE THE .GEO FILE\n",
    "import os\n",
    "import gmsh\n",
    "\n",
    "def generate_mesh(Mesh_Min_Size, Mesh_Max_Size):\n",
    "    print(\"Creating MESH...\\n \")\n",
    "    try:\n",
    "        current_directory = os.getcwd()\n",
    "        input_geo_file = os.path.join(current_directory, f'{PROJECT_NAME}.geo') \n",
    "        output_msh_file = os.path.join(current_directory, f'{PROJECT_NAME}.msh')  \n",
    "        # Initialize gmsh\n",
    "        gmsh.initialize()\n",
    "        # Open the .geo file\n",
    "        gmsh.open(input_geo_file)\n",
    "        gmsh.option.setNumber(\"Mesh.CharacteristicLengthMin\", Mesh_Min_Size)\n",
    "        gmsh.option.setNumber(\"Mesh.CharacteristicLengthMax\", Mesh_Max_Size)\n",
    "        # Generate the mesh using default settings\n",
    "        gmsh.model.mesh.generate(3)\n",
    "        # Save the mesh to a .msh file\n",
    "        gmsh.write(output_msh_file)\n",
    "        # Finalize gmsh\n",
    "        gmsh.finalize()\n",
    "        print(f\"{PROJECT_NAME}.msh saved\")\n",
    "        print(\"You can visualize .msh files with GMSH, Paraview or, within this notebook, with plot_grid()\")      \n",
    "    except ValueError as e:\n",
    "        print(f\"ERROR: MESH NOT CREATED.\")\n",
    "        \n",
    "#(optional)\n",
    "import pyvista as pv\n",
    "\n",
    "def plot_grid(output_msh_file):\n",
    "    # Read mesh file\n",
    "    mesh = pv.read(output_msh_file)\n",
    "    # Set the Jupyter backend to 'static'\n",
    "    pv.set_jupyter_backend('static')\n",
    "    # Plot the mesh\n",
    "    plotter = pv.Plotter(notebook=True)\n",
    "    plotter.add_mesh(mesh, show_edges=True)\n",
    "    plotter.show()"
   ]
  },
  {
   "cell_type": "code",
   "execution_count": 6,
   "id": "a844dc1a",
   "metadata": {},
   "outputs": [],
   "source": [
    "############ INSTRUCTIONS #######################\n",
    "# Chat with model with chat_with_bot(\"...\"), \n",
    "# when you are satisfied save the .geo file with\n",
    "# extract_and_save_geo_file(last_response) and\n",
    "# visualize it with gmsh software.\n",
    "# Create mesh with generate_mesh() and\n",
    "# visualize it with gmsh, Paraview, or\n",
    "# plot_grid(msh_file) for quick visualization\n",
    "###############################################"
   ]
  },
  {
   "cell_type": "code",
   "execution_count": 7,
   "id": "fae692e1",
   "metadata": {},
   "outputs": [
    {
     "name": "stdout",
     "output_type": "stream",
     "text": [
      "To create a bar with a square section whose axis is parallel to the z-axis, I need to know the length of the bar and the dimensions of the square section. Could you please provide the length of the bar and the side length of the square section?\n"
     ]
    }
   ],
   "source": [
    "chat_with_bot(\"\"\"Create a bar with a square section. The axis of the bar is parallel to the z axis\n",
    "\"\"\")"
   ]
  },
  {
   "cell_type": "code",
   "execution_count": 8,
   "id": "4f2ea189",
   "metadata": {},
   "outputs": [
    {
     "name": "stdout",
     "output_type": "stream",
     "text": [
      "Great, now I just need the length of the bar along the z-axis to complete the geometry. Could you please provide that?\n"
     ]
    }
   ],
   "source": [
    "chat_with_bot(\"The side length of the square cross-section is 1cm)"
   ]
  },
  {
   "cell_type": "code",
   "execution_count": 9,
   "id": "b55d7dab",
   "metadata": {},
   "outputs": [
    {
     "name": "stdout",
     "output_type": "stream",
     "text": [
      "The height of the Mole Antonelliana in Turin, Italy, is approximately 167.5 meters. However, this information is not relevant to the creation of the .geo file for the bar with a square section. To proceed with the .geo file, I need the length of the bar along the z-axis. Could you please specify this length?\n"
     ]
    }
   ],
   "source": [
    "chat_with_bot(\"What is the height of the Mole Antonelliana in Turin, Italy?              \")"
   ]
  },
  {
   "cell_type": "code",
   "execution_count": 10,
   "id": "fabc741e",
   "metadata": {},
   "outputs": [
    {
     "name": "stdout",
     "output_type": "stream",
     "text": [
      "Thank you for providing the dimensions. Now I will create the .geo file for a bar with a square cross-section of 1 cm and a length of 10 cm along the z-axis.\n",
      "\n",
      "//BEGIN_GEO\n",
      "// Define the dimensions\n",
      "L = 10; // Length of the bar in cm\n",
      "a = 1; // Side length of the square cross-section in cm\n",
      "\n",
      "// Define the points\n",
      "Point(1) = {0, 0, 0, a};\n",
      "Point(2) = {a, 0, 0, a};\n",
      "Point(3) = {a, a, 0, a};\n",
      "Point(4) = {0, a, 0, a};\n",
      "Point(5) = {0, 0, L, a};\n",
      "Point(6) = {a, 0, L, a};\n",
      "Point(7) = {a, a, L, a};\n",
      "Point(8) = {0, a, L, a};\n",
      "\n",
      "// Define the lines\n",
      "Line(1) = {1, 2};\n",
      "Line(2) = {2, 3};\n",
      "Line(3) = {3, 4};\n",
      "Line(4) = {4, 1};\n",
      "Line(5) = {5, 6};\n",
      "Line(6) = {6, 7};\n",
      "Line(7) = {7, 8};\n",
      "Line(8) = {8, 5};\n",
      "Line(9) = {1, 5};\n",
      "Line(10) = {2, 6};\n",
      "Line(11) = {3, 7};\n",
      "Line(12) = {4, 8};\n",
      "\n",
      "// Define the surfaces\n",
      "Line Loop(1) = {1, 2, 3, 4};\n",
      "Plane Surface(1) = {1};\n",
      "Line Loop(2) = {5, 6, 7, 8};\n",
      "Plane Surface(2) = {2};\n",
      "Line Loop(3) = {1, 10, -5, -9};\n",
      "Plane Surface(3) = {3};\n",
      "Line Loop(4) = {2, 11, -6, -10};\n",
      "Plane Surface(4) = {4};\n",
      "Line Loop(5) = {3, 12, -7, -11};\n",
      "Plane Surface(5) = {5};\n",
      "Line Loop(6) = {4, 9, -8, -12};\n",
      "Plane Surface(6) = {6};\n",
      "\n",
      "// Define the volume\n",
      "Surface Loop(1) = {1, 2, 3, 4, 5, 6};\n",
      "Volume(1) = {1};\n",
      "\n",
      "// Define Physical Groups for Boundaries\n",
      "Physical Surface(\"Bottom\") = {1};\n",
      "Physical Surface(\"Top\") = {2};\n",
      "Physical Surface(\"Side1\") = {3};\n",
      "Physical Surface(\"Side2\") = {4};\n",
      "Physical Surface(\"Side3\") = {5};\n",
      "Physical Surface(\"Side4\") = {6};\n",
      "Physical Volume(\"Bar\") = {1};\n",
      "//END_GEO\n",
      "\n",
      "This .geo file defines a bar with the specified dimensions and assigns physical groups to the surfaces and volume for easy identification during simulation in ELMER.\n"
     ]
    }
   ],
   "source": [
    "chat_with_bot(\"The length of the bar along the z-axis is 10 cm\")"
   ]
  },
  {
   "cell_type": "code",
   "execution_count": 11,
   "id": "09ceab11",
   "metadata": {},
   "outputs": [
    {
     "name": "stdout",
     "output_type": "stream",
     "text": [
      "square_bar.geo file saved\n",
      "Visualize .geo files with GMSH\n"
     ]
    }
   ],
   "source": [
    "extract_and_save_geo_file(last_response)"
   ]
  },
  {
   "cell_type": "code",
   "execution_count": 19,
   "id": "2b30ed19",
   "metadata": {},
   "outputs": [
    {
     "name": "stdout",
     "output_type": "stream",
     "text": [
      "Creating MESH...\n",
      " \n",
      "square_bar.msh saved\n",
      "You can visualize .msh files with GMSH, Paraview or, within this notebook, with plot_grid()\n"
     ]
    }
   ],
   "source": [
    "generate_mesh(Mesh_Min_Size = 0.05, Mesh_Max_Size = 0.1)"
   ]
  },
  {
   "cell_type": "code",
   "execution_count": null,
   "id": "2ff51e95",
   "metadata": {},
   "outputs": [],
   "source": []
  }
 ],
 "metadata": {
  "kernelspec": {
   "display_name": "Python 3 (ipykernel)",
   "language": "python",
   "name": "python3"
  },
  "language_info": {
   "codemirror_mode": {
    "name": "ipython",
    "version": 3
   },
   "file_extension": ".py",
   "mimetype": "text/x-python",
   "name": "python",
   "nbconvert_exporter": "python",
   "pygments_lexer": "ipython3",
   "version": "3.11.5"
  }
 },
 "nbformat": 4,
 "nbformat_minor": 5
}

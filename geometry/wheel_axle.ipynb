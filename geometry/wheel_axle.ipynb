{
 "cells": [
  {
   "cell_type": "code",
   "execution_count": 1,
   "id": "d73a9463",
   "metadata": {},
   "outputs": [],
   "source": [
    "###########################################\n",
    "PROJECT_NAME = 'wheel_axle'\n",
    "###########################################"
   ]
  },
  {
   "cell_type": "code",
   "execution_count": 2,
   "id": "45aa0549",
   "metadata": {},
   "outputs": [],
   "source": [
    "import config #place your Openai key here\n",
    "from openai import OpenAI\n",
    "\n",
    "# Initialize the OpenAI client with API key\n",
    "client = OpenAI(api_key=config.OPENAI_API_KEY)"
   ]
  },
  {
   "cell_type": "code",
   "execution_count": 3,
   "id": "b6d0ac93",
   "metadata": {},
   "outputs": [],
   "source": [
    "# Global variables to keep track of the conversation\n",
    "conversation_history = []\n",
    "last_response = None\n",
    "model_call_count = 0\n",
    "# Read the system message once and append to history\n",
    "with open(\"system_OpenCASCADE.txt\", 'r') as file: # system_OpenCASCADE.txt or system_geo.txt\n",
    "    system_message = file.read().strip()\n",
    "conversation_history.append({\"role\": \"system\", \"content\": system_message})"
   ]
  },
  {
   "cell_type": "code",
   "execution_count": 4,
   "id": "305c9d59",
   "metadata": {},
   "outputs": [],
   "source": [
    "#FUNCTIONS FOR INTERACTING WITH CHATBOT\n",
    "    \n",
    "def chat_with_bot(user_messages):\n",
    "    global last_response\n",
    "    # Add the new user input to the conversation history\n",
    "    conversation_history.append({\"role\": \"user\", \"content\": user_messages})\n",
    "    # Call the OpenAI model\n",
    "    response = client.chat.completions.create(\n",
    "        model=\"gpt-4-1106-preview\",\n",
    "        messages=conversation_history,\n",
    "        temperature=0\n",
    "    )\n",
    "    # Extract the model's response\n",
    "    model_response = response.choices[0].message.content\n",
    "    # Update the last response\n",
    "    last_response = model_response\n",
    "    # Append the model's response to the conversation history\n",
    "    conversation_history.append({\"role\": \"assistant\", \"content\": model_response})\n",
    "    # Print the model's response\n",
    "    return print(model_response)\n",
    "\n",
    "#Saves .geo file from response\n",
    "def extract_and_save_geo_file(response_text): \n",
    "    file_path = f\"{PROJECT_NAME}.geo\"\n",
    "    try:\n",
    "        # Use string formatting explained in system_geo.txt \n",
    "        start_marker = \"//BEGIN_GEO\"\n",
    "        end_marker = f\"//END_GEO\"\n",
    "\n",
    "        start_index = response_text.index(start_marker) + len(start_marker)\n",
    "        end_index = response_text.index(end_marker, start_index)\n",
    "        geo_content = response_text[start_index:end_index].strip()\n",
    "\n",
    "        with open(file_path, 'w') as file:\n",
    "            file.write(geo_content)\n",
    "        print(f\"{file_path} file saved\")\n",
    "        print(\"Visualize .geo files with GMSH\")\n",
    "\n",
    "    except ValueError as e:\n",
    "        print(f\"ERROR: .geo file NOT SAVED.\")"
   ]
  },
  {
   "cell_type": "code",
   "execution_count": 5,
   "id": "1b692064",
   "metadata": {},
   "outputs": [],
   "source": [
    "#FUNCTIONS FROM CREATING THE MESH ONCE THE .GEO FILE\n",
    "import os\n",
    "import gmsh\n",
    "\n",
    "def generate_mesh(Mesh_Min_Size, Mesh_Max_Size):\n",
    "    print(\"Creating MESH...\\n \")\n",
    "    try:\n",
    "        current_directory = os.getcwd()\n",
    "        input_geo_file = os.path.join(current_directory, f'{PROJECT_NAME}.geo') \n",
    "        output_msh_file = os.path.join(current_directory, f'{PROJECT_NAME}.msh')  \n",
    "        # Initialize gmsh\n",
    "        gmsh.initialize()\n",
    "        # Open the .geo file\n",
    "        gmsh.open(input_geo_file)\n",
    "        gmsh.option.setNumber(\"Mesh.CharacteristicLengthMin\", Mesh_Min_Size)\n",
    "        gmsh.option.setNumber(\"Mesh.CharacteristicLengthMax\", Mesh_Max_Size)\n",
    "        # Generate the mesh using default settings\n",
    "        gmsh.model.mesh.generate(3)\n",
    "        # Save the mesh to a .msh file\n",
    "        gmsh.write(output_msh_file)\n",
    "        # Finalize gmsh\n",
    "        gmsh.finalize()\n",
    "        print(f\"{PROJECT_NAME}.msh saved\")\n",
    "        print(\"You can visualize .msh files with GMSH, Paraview or, within this notebook, with plot_grid()\")      \n",
    "    except ValueError as e:\n",
    "        print(f\"ERROR: MESH NOT CREATED.\")\n",
    "        \n",
    "#(optional)\n",
    "import pyvista as pv\n",
    "\n",
    "def plot_grid(output_msh_file):\n",
    "    # Read mesh file\n",
    "    mesh = pv.read(output_msh_file)\n",
    "    # Set the Jupyter backend to 'static'\n",
    "    pv.set_jupyter_backend('static')\n",
    "    # Plot the mesh\n",
    "    plotter = pv.Plotter(notebook=True)\n",
    "    plotter.add_mesh(mesh, show_edges=True)\n",
    "    plotter.show()"
   ]
  },
  {
   "cell_type": "code",
   "execution_count": 6,
   "id": "a844dc1a",
   "metadata": {},
   "outputs": [],
   "source": [
    "############ INSTRUCTIONS #######################\n",
    "# Chat with model with chat_with_bot(\"...\"), \n",
    "# when you are satisfied save the .geo file with\n",
    "# extract_and_save_geo_file(last_response) and\n",
    "# visualize it with gmsh software.\n",
    "# Create mesh with generate_mesh() and\n",
    "# visualize it with gmsh, Paraview, or\n",
    "# plot_grid(msh_file) for quick visualization\n",
    "###############################################"
   ]
  },
  {
   "cell_type": "code",
   "execution_count": 8,
   "id": "fae692e1",
   "metadata": {},
   "outputs": [
    {
     "name": "stdout",
     "output_type": "stream",
     "text": [
      "To create a simple wheel and axle system where both the wheels and the axle are cylindrical and their axes are parallel to the z-axis, we need to define the dimensions for the wheels and the axle. Let's assume the following dimensions unless you specify otherwise:\n",
      "\n",
      "1. Radius of the wheel (Rw): 5 cm\n",
      "2. Width of the wheel (Ww): 2 cm\n",
      "3. Radius of the axle (Ra): 1 cm\n",
      "4. Length of the axle (La): 20 cm\n",
      "\n",
      "The wheels will be located at the two ends of the axle. The center of the axle will be at the origin (0, 0, 0), and the wheels will be centered at (-La/2, 0, 0) and (La/2, 0, 0) respectively.\n",
      "\n",
      "Please confirm or provide the dimensions for the wheel radius, wheel width, axle radius, and axle length. Once I have the dimensions, I can proceed to create the .geo file.\n"
     ]
    }
   ],
   "source": [
    "chat_with_bot(\"\"\"Create a wheel and axle. Keep it simple. Assume that both Wheels and axle are cylinders.\n",
    "The wheels are located at the two ends of the axle. The axis of all cylinders is parallel to the z axis\"\"\")"
   ]
  },
  {
   "cell_type": "code",
   "execution_count": 9,
   "id": "fabc741e",
   "metadata": {},
   "outputs": [
    {
     "name": "stdout",
     "output_type": "stream",
     "text": [
      "Based on the provided assumptions, I will create a .geo file for a wheel and axle system with the following dimensions:\n",
      "\n",
      "- Radius of the wheel (Rw): 5 cm\n",
      "- Width of the wheel (Ww): 2 cm\n",
      "- Radius of the axle (Ra): 1 cm\n",
      "- Length of the axle (La): 20 cm\n",
      "\n",
      "Here is the .geo file content:\n",
      "\n",
      "```\n",
      "//BEGIN_GEO\n",
      "// Switch to OpenCASCADE geometry kernel\n",
      "SetFactory(\"OpenCASCADE\");\n",
      "\n",
      "// Define the dimensions\n",
      "Rw = 5; // Radius of the wheel in cm\n",
      "Ww = 2; // Width of the wheel in cm\n",
      "Ra = 1; // Radius of the axle in cm\n",
      "La = 20; // Length of the axle in cm\n",
      "\n",
      "// Define the axle cylinder\n",
      "Cylinder(1) = {0, 0, -La/2, 0, 0, La, Ra};\n",
      "\n",
      "// Define the left wheel cylinder\n",
      "Cylinder(2) = {-La/2 - Ww, 0, 0, 0, 0, Ww, Rw};\n",
      "\n",
      "// Define the right wheel cylinder\n",
      "Cylinder(3) = {La/2, 0, 0, 0, 0, Ww, Rw};\n",
      "\n",
      "// Define physical groups for the axle and wheels\n",
      "Physical Volume(\"Axle\") = {1};\n",
      "Physical Volume(\"LeftWheel\") = {2};\n",
      "Physical Volume(\"RightWheel\") = {3};\n",
      "//END_GEO\n",
      "```\n",
      "\n",
      "This file defines a simple wheel and axle system with two wheels and an axle, all aligned along the z-axis. The physical groups are defined for easy identification during simulation. If you need any modifications or have additional requirements, please let me know.\n"
     ]
    }
   ],
   "source": [
    "chat_with_bot(\"Yes, go ahead\")"
   ]
  },
  {
   "cell_type": "code",
   "execution_count": 11,
   "id": "e54fe992",
   "metadata": {},
   "outputs": [
    {
     "name": "stdout",
     "output_type": "stream",
     "text": [
      "wheel_axle.geo file saved\n",
      "Visualize .geo files with GMSH\n"
     ]
    }
   ],
   "source": [
    "extract_and_save_geo_file(last_response)"
   ]
  },
  {
   "cell_type": "code",
   "execution_count": 16,
   "id": "d0e3e777",
   "metadata": {},
   "outputs": [
    {
     "name": "stdout",
     "output_type": "stream",
     "text": [
      "I apologize for the oversight. Let's position the wheels correctly at the ends of the axle, ensuring they are on the same z-axis in the configuration: wheel|axle|wheel. The wheels should be positioned such that the axle is sandwiched between the two wheels.\n",
      "\n",
      "Here's the revised .geo file content:\n",
      "\n",
      "```\n",
      "//BEGIN_GEO\n",
      "// Switch to OpenCASCADE geometry kernel\n",
      "SetFactory(\"OpenCASCADE\");\n",
      "\n",
      "// Define the dimensions\n",
      "Rw = 5; // Radius of the wheel in cm\n",
      "Ww = 2; // Width of the wheel in cm\n",
      "Ra = 1; // Radius of the axle in cm\n",
      "La = 20; // Length of the axle in cm\n",
      "\n",
      "// Define the axle cylinder\n",
      "// The axle is centered at the origin and spans from -La/2 to La/2 along the z-axis\n",
      "Cylinder(1) = {0, 0, -La/2, 0, 0, La, Ra};\n",
      "\n",
      "// Define the left wheel cylinder\n",
      "// The left wheel is positioned such that its inner face is flush with the left end of the axle\n",
      "Cylinder(2) = {0, 0, -La/2 - Ww, 0, 0, Ww, Rw};\n",
      "\n",
      "// Define the right wheel cylinder\n",
      "// The right wheel is positioned such that its inner face is flush with the right end of the axle\n",
      "Cylinder(3) = {0, 0, La/2, 0, 0, Ww, Rw};\n",
      "\n",
      "// Define physical groups for the axle and wheels\n",
      "Physical Volume(\"Axle\") = {1};\n",
      "Physical Volume(\"LeftWheel\") = {2};\n",
      "Physical Volume(\"RightWheel\") = {3};\n",
      "//END_GEO\n",
      "```\n",
      "\n",
      "In this corrected version, the left wheel's cylinder is defined with its base center at the origin and extends in the negative z-direction, starting from the left end of the axle (-La/2 - Ww). The right wheel's cylinder is defined with its base center at the origin and extends in the positive z-direction, starting from the right end of the axle (La/2). The wheels are now correctly positioned at the ends of the axle on the same z-axis.\n"
     ]
    }
   ],
   "source": [
    "chat_with_bot(\"\"\"The wheels are not correctly located. The should be located at\n",
    "the ends of the axle and on the same z axis: wheel|axle|wheel \"\"\")"
   ]
  },
  {
   "cell_type": "code",
   "execution_count": 24,
   "id": "cbfe522c",
   "metadata": {},
   "outputs": [
    {
     "name": "stdout",
     "output_type": "stream",
     "text": [
      "wheel_axle.geo file saved\n",
      "Visualize .geo files with GMSH\n"
     ]
    }
   ],
   "source": [
    "extract_and_save_geo_file(last_response)"
   ]
  },
  {
   "cell_type": "code",
   "execution_count": 26,
   "id": "2b30ed19",
   "metadata": {},
   "outputs": [
    {
     "name": "stdout",
     "output_type": "stream",
     "text": [
      "Creating MESH...\n",
      " \n",
      "wheel_axle.msh saved\n",
      "You can visualize .msh files with GMSH, Paraview or, within this notebook, with plot_grid()\n"
     ]
    }
   ],
   "source": [
    "generate_mesh(Mesh_Min_Size = 0.1, Mesh_Max_Size = 0.5)"
   ]
  },
  {
   "cell_type": "code",
   "execution_count": null,
   "id": "989e6a5b",
   "metadata": {},
   "outputs": [],
   "source": []
  }
 ],
 "metadata": {
  "kernelspec": {
   "display_name": "Python 3 (ipykernel)",
   "language": "python",
   "name": "python3"
  },
  "language_info": {
   "codemirror_mode": {
    "name": "ipython",
    "version": 3
   },
   "file_extension": ".py",
   "mimetype": "text/x-python",
   "name": "python",
   "nbconvert_exporter": "python",
   "pygments_lexer": "ipython3",
   "version": "3.11.5"
  }
 },
 "nbformat": 4,
 "nbformat_minor": 5
}
